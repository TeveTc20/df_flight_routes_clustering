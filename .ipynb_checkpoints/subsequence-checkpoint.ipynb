{
 "cells": [
  {
   "cell_type": "markdown",
   "id": "812faaa1",
   "metadata": {},
   "source": [
    "# Imports"
   ]
  },
  {
   "cell_type": "code",
   "execution_count": null,
   "id": "3aa2e503",
   "metadata": {},
   "outputs": [],
   "source": [
    "import numpy as np\n",
    "import pandas as pd\n",
    "import matplotlib.pyplot as plt\n",
    "from IPython.display import display\n",
    "%matplotlib inline\n",
    "import seaborn as sns\n",
    "import random\n",
    "import folium\n",
    "import math\n",
    "sns.set_style('whitegrid')\n",
    "\n",
    "from sklearn.cluster import KMeans\n",
    "\n",
    "import warnings \n",
    "warnings.filterwarnings('ignore')"
   ]
  },
  {
   "cell_type": "markdown",
   "id": "2bfc76c2",
   "metadata": {},
   "source": [
    "# Get the data"
   ]
  },
  {
   "cell_type": "code",
   "execution_count": null,
   "id": "67dbf143",
   "metadata": {},
   "outputs": [],
   "source": [
    "flight_data = pd.read_csv('Smoothed_data.csv')"
   ]
  },
  {
   "cell_type": "code",
   "execution_count": null,
   "id": "212356b2",
   "metadata": {},
   "outputs": [],
   "source": [
    "flight_data.head()"
   ]
  },
  {
   "cell_type": "code",
   "execution_count": null,
   "id": "c636b352",
   "metadata": {},
   "outputs": [],
   "source": [
    "flight_data.info()"
   ]
  },
  {
   "cell_type": "code",
   "execution_count": null,
   "id": "436506ef",
   "metadata": {},
   "outputs": [],
   "source": [
    "rows_with_nan = flight_data[flight_data['Longitude'].isnull() | flight_data['Latitude'].isnull()]\n",
    "flight_data.drop(rows_with_nan.index, inplace=True)"
   ]
  },
  {
   "cell_type": "code",
   "execution_count": null,
   "id": "722682cb",
   "metadata": {},
   "outputs": [],
   "source": [
    "flight_data['feet'] = flight_data['feet'].str.replace(',','')\n",
    "flight_data['Rate'] = flight_data['Rate'].str.replace(',','')"
   ]
  },
  {
   "cell_type": "code",
   "execution_count": null,
   "id": "5cd2ddf3",
   "metadata": {},
   "outputs": [],
   "source": [
    "flight_data['feet'] = flight_data['feet'].astype(float)"
   ]
  },
  {
   "cell_type": "markdown",
   "id": "ff790a9d",
   "metadata": {},
   "source": [
    "# Grouping the data"
   ]
  },
  {
   "cell_type": "code",
   "execution_count": null,
   "id": "d661bf4d",
   "metadata": {},
   "outputs": [],
   "source": [
    "grouped_df = flight_data.groupby(['Route','Airline','FlightNum','Aircraft','Date']).agg(lambda x: x.tolist()).reset_index()"
   ]
  },
  {
   "cell_type": "code",
   "execution_count": null,
   "id": "ba262bc4",
   "metadata": {},
   "outputs": [],
   "source": [
    "grouped_df['Sequence'] = grouped_df.apply(lambda row: list(zip(row['Latitude'], row['Longitude'])), axis=1)"
   ]
  },
  {
   "cell_type": "code",
   "execution_count": null,
   "id": "a3e8f756",
   "metadata": {},
   "outputs": [],
   "source": [
    "grouped_df.drop(['Latitude', 'Longitude','mph','feet','Course','Time','Kts','Rate','Reporting Facility'], axis=1, inplace=True)"
   ]
  },
  {
   "cell_type": "code",
   "execution_count": null,
   "id": "d9fde4db",
   "metadata": {},
   "outputs": [],
   "source": [
    "grouped_df"
   ]
  },
  {
   "cell_type": "markdown",
   "id": "30c90f53",
   "metadata": {},
   "source": [
    "# Subsequence of Europe"
   ]
  },
  {
   "cell_type": "markdown",
   "id": "127f0622",
   "metadata": {},
   "source": [
    "## Substract Europe destantions from the dataframe"
   ]
  },
  {
   "cell_type": "code",
   "execution_count": null,
   "id": "6d4ccad0",
   "metadata": {},
   "outputs": [],
   "source": [
    "selected_europe_routes = ['TLV - ADB','TLV - AMS','TLV - ARN','TLV - ATH','TLV - AYT','TLV - BCN','TLV - BEG','TLV - BER',\n",
    "                         'TLV - BLQ','TLV - BRI','TLV - BRU','TLV - BUD','TLV - CDG','TLV - CLJ','TLV - CTA','TLV - DEB',\n",
    "                         'TLV - DLM','TLV - DME','TLV - DUB','TLV - DUS','TLV - FCO','TLV - FKB','TLV - FMM','TLV - FRA',\n",
    "                         'TLV - GVA','TLV - HEL','TLV - HER','TLV - IAS','TLV - IST','TLV - KEF','TLV - KIV','TLV - KRK',\n",
    "                         'TLV - LCA','TLV - LHR','TLV - LIS','TLV - MAD','TLV - MAN','TLV - MLA','TLV - MUC','TLV - MXP',\n",
    "                         'TLV - NAP','TLV - NCE','TLV - OPO','TLV - OTP','TLV - PFO','TLV - PMI','TLV - PRG','TLV - RHO',\n",
    "                         'TLV - RIX','TLV - SOF','TLV - STR','TLV - SZG','TLV - TGD','TLV - TIA','TLV - TZX','TLV - VAR',\n",
    "                         'TLV - VCE','TLV - VIE','TLV - VNO','TLV - VRN','TLV - WAW','TLV - ZAG','TLV - ZRH','TLV - ZTH']"
   ]
  },
  {
   "cell_type": "code",
   "execution_count": null,
   "id": "b56419f4",
   "metadata": {},
   "outputs": [],
   "source": [
    "route_filter_all = flight_data['Route'].isin(selected_europe_routes)"
   ]
  },
  {
   "cell_type": "code",
   "execution_count": null,
   "id": "7228dae9",
   "metadata": {},
   "outputs": [],
   "source": [
    "route_filter_group = grouped_df['Route'].isin(selected_europe_routes)"
   ]
  },
  {
   "cell_type": "code",
   "execution_count": null,
   "id": "096dcc9c",
   "metadata": {},
   "outputs": [],
   "source": [
    "europe_df = flight_data[route_filter_all]\n",
    "europe_df_group = grouped_df[route_filter_group]"
   ]
  },
  {
   "cell_type": "code",
   "execution_count": null,
   "id": "674d7976",
   "metadata": {},
   "outputs": [],
   "source": [
    "europe_df"
   ]
  },
  {
   "cell_type": "code",
   "execution_count": null,
   "id": "1e7b9b12",
   "metadata": {},
   "outputs": [],
   "source": [
    "europe_df_group"
   ]
  },
  {
   "cell_type": "code",
   "execution_count": null,
   "id": "d6cdb347",
   "metadata": {},
   "outputs": [],
   "source": [
    "import pandas as pd\n",
    "import folium\n",
    "from IPython.display import display\n",
    "\n",
    "\n",
    "# Create a Folium map centered at an initial location\n",
    "map_center = [51.5074, -0.1278]  # For example, London's coordinates\n",
    "m = folium.Map(location=map_center, zoom_start=5)\n",
    "\n",
    "\n",
    "# Iterate through each row and add markers with different colors for each sequence\n",
    "for index, row in europe_df_group.iterrows():\n",
    "    sequence = row['Sequence']\n",
    "    \n",
    "    for point in sequence:\n",
    "        latitude, longitude = point\n",
    "        folium.CircleMarker([latitude, longitude], radius=1, fill=True).add_to(m)\n",
    "\n",
    "# Display the Folium map directly in the notebook or script\n",
    "display(m)\n"
   ]
  },
  {
   "cell_type": "markdown",
   "id": "aa1e19f7",
   "metadata": {},
   "source": [
    "### Calculating distance and angel difference between points in every sequence"
   ]
  },
  {
   "cell_type": "code",
   "execution_count": null,
   "id": "924b62df",
   "metadata": {},
   "outputs": [],
   "source": [
    "# Haversine formula to calculate distance between two points given their latitude and longitude\n",
    "def haversine(lat1, lon1, lat2, lon2):\n",
    "    R = 6371.0  # Earth's radius in kilometers\n",
    "    dlat = math.radians(lat2 - lat1)\n",
    "    dlon = math.radians(lon2 - lon1)\n",
    "    a = math.sin(dlat / 2) ** 2 + math.cos(math.radians(lat1)) * math.cos(math.radians(lat2)) * math.sin(dlon / 2) ** 2\n",
    "    c = 2 * math.atan2(math.sqrt(a), math.sqrt(1 - a))\n",
    "    distance = R * c\n",
    "    return distance"
   ]
  },
  {
   "cell_type": "code",
   "execution_count": null,
   "id": "fe022450",
   "metadata": {},
   "outputs": [],
   "source": [
    "# Calculate the delta (change) in distance between consecutive rows for each route\n",
    "deltas = []\n",
    "\n",
    "# Group the DataFrame by 'Route'\n",
    "grouped = europe_df.groupby('Route')\n",
    "\n",
    "for route, group in grouped:\n",
    "    deltas.append(0)  # Set the first value for each route to '0'\n",
    "    for i in range(len(group) - 1):\n",
    "        lat1 = group.iloc[i, group.columns.get_loc('Latitude')]\n",
    "        lon1 = group.iloc[i, group.columns.get_loc('Longitude')]\n",
    "        lat2 = group.iloc[i + 1, group.columns.get_loc('Latitude')]\n",
    "        lon2 = group.iloc[i + 1, group.columns.get_loc('Longitude')]\n",
    "        distance_delta = haversine(lat1, lon1, lat2, lon2)\n",
    "        rounded_delta = round(distance_delta, 2)\n",
    "        deltas.append(rounded_delta)\n",
    "\n",
    "europe_df['Delta'] = deltas"
   ]
  },
  {
   "cell_type": "code",
   "execution_count": null,
   "id": "7f15d7d2",
   "metadata": {},
   "outputs": [],
   "source": [
    "# Function to calculate the angle between two points given their latitude and longitude\n",
    "def calculate_angle(lat1, lon1, lat2, lon2):\n",
    "    dlat = math.radians(lat2 - lat1)\n",
    "    dlon = math.radians(lon2 - lon1)\n",
    "    y = math.sin(dlon) * math.cos(math.radians(lat2))\n",
    "    x = math.cos(math.radians(lat1)) * math.sin(math.radians(lat2)) - math.sin(math.radians(lat1)) * math.cos(math.radians(lat2)) * math.cos(dlon)\n",
    "    angle_rad = math.atan2(y, x)\n",
    "    angle_deg = math.degrees(angle_rad)\n",
    "    return angle_deg"
   ]
  },
  {
   "cell_type": "code",
   "execution_count": null,
   "id": "1120489f",
   "metadata": {},
   "outputs": [],
   "source": [
    "# Calculate the delta (change) in angle between consecutive rows for each route\n",
    "angles = []\n",
    "\n",
    "# Group the DataFrame by 'Route'\n",
    "grouped = europe_df.groupby('Route')\n",
    "\n",
    "for route, group in grouped:\n",
    "    angles.append(0)  # Set the first value for each route to '0'\n",
    "    for i in range(len(group) - 1):\n",
    "        lat1 = group.iloc[i, group.columns.get_loc('Latitude')]\n",
    "        lon1 = group.iloc[i, group.columns.get_loc('Longitude')]\n",
    "        lat2 = group.iloc[i + 1, group.columns.get_loc('Latitude')]\n",
    "        lon2 = group.iloc[i + 1, group.columns.get_loc('Longitude')]\n",
    "        angle_delta = calculate_angle(lat1, lon1, lat2, lon2)\n",
    "        rounded_angle = round(angle_delta,2)\n",
    "        angles.append(rounded_angle)\n",
    "\n",
    "europe_df['Angle'] = angles"
   ]
  },
  {
   "cell_type": "code",
   "execution_count": null,
   "id": "6bf3fd11",
   "metadata": {},
   "outputs": [],
   "source": [
    "# Create an empty list to store rows with angle changes greater than 25 degrees\n",
    "delta_changes = []\n",
    "\n",
    "# Group the DataFrame by 'Route'\n",
    "grouped = europe_df.groupby('Route')\n",
    "\n",
    "for route, group in grouped:\n",
    "    delta_changes.append(0)  # Set the first value for each route to '0'\n",
    "    for i in range(1, len(group)):\n",
    "        current_delta = group.iloc[i, group.columns.get_loc('Delta')]\n",
    "        previous_delta = group.iloc[i - 1, group.columns.get_loc('Delta')]\n",
    "        delta_change = abs(current_delta - previous_delta)\n",
    "        delta_changes.append(delta_change)\n",
    "\n",
    "europe_df['DeltaChange'] = delta_changes"
   ]
  },
  {
   "cell_type": "code",
   "execution_count": null,
   "id": "5bdbfb98",
   "metadata": {},
   "outputs": [],
   "source": [
    "# Create an empty list to store rows with angle changes greater than 25 degrees\n",
    "angle_changes = []\n",
    "\n",
    "# Group the DataFrame by 'Route'\n",
    "grouped = europe_df.groupby('Route')\n",
    "\n",
    "for route, group in grouped:\n",
    "    angle_changes.append(0)  # Set the first value for each route to '0'\n",
    "    for i in range(1, len(group)):\n",
    "        current_angle = group.iloc[i, group.columns.get_loc('Angle')]\n",
    "        previous_angle = group.iloc[i - 1, group.columns.get_loc('Angle')]\n",
    "        angle_change = abs(current_angle - previous_angle)\n",
    "        angle_changes.append(angle_change)\n",
    "\n",
    "europe_df['AngleChange'] = angle_changes"
   ]
  },
  {
   "cell_type": "code",
   "execution_count": null,
   "id": "8b936785",
   "metadata": {},
   "outputs": [],
   "source": [
    "for route, group in europe_df.groupby('Route'):\n",
    "    plt.figure()  # Create a new figure for each route's histogram\n",
    "    plt.hist(group['DeltaChange'], bins=60, edgecolor='black', alpha=0.7)\n",
    "    plt.title(f'Histogram for Route {route}')\n",
    "    plt.xlabel('Delta Change')\n",
    "    plt.ylabel('Frequency')\n",
    "    plt.grid(True)\n",
    "    plt.show()"
   ]
  },
  {
   "cell_type": "code",
   "execution_count": null,
   "id": "5a1d342e",
   "metadata": {},
   "outputs": [],
   "source": [
    "\n",
    "# Create histograms for each route\n",
    "for route, group in europe_df.groupby('Route'):\n",
    "    plt.figure()  # Create a new figure for each route's histogram\n",
    "    plt.hist(group['AngleChange'], bins=60, edgecolor='black', alpha=0.7)\n",
    "    plt.title(f'Histogram for Route {route}')\n",
    "    plt.xlabel('Angle Change')\n",
    "    plt.ylabel('Frequency')\n",
    "    plt.grid(True)\n",
    "    plt.show()"
   ]
  },
  {
   "cell_type": "code",
   "execution_count": null,
   "id": "31a49c01",
   "metadata": {},
   "outputs": [],
   "source": [
    "# Extract latitude and longitude coordinates from the 'sequence' column\n",
    "latitude_longitude = europe_df_group['Sequence'].apply(pd.Series)\n",
    "\n",
    "\n",
    "# Get the route names from the original DataFrame\n",
    "route_names = europe_df_group['Route']\n",
    "\n",
    "# Iterate through each row and plot each sequence separately with route names as titles\n",
    "for index, row in latitude_longitude.iterrows():\n",
    "    latitudes = row.str[0]\n",
    "    longitudes = row.str[1]\n",
    "    \n",
    "    route_name = route_names[index]\n",
    "    \n",
    "    plt.figure(figsize=(10, 6))  # Adjust the figure size as needed\n",
    "    plt.scatter(longitudes, latitudes, marker='o', alpha=0.5)\n",
    "    plt.title(f'{route_name}')\n",
    "    plt.xlabel('Longitude')\n",
    "    plt.ylabel('Latitude')\n",
    "    plt.grid(True)\n",
    "    plt.show()"
   ]
  },
  {
   "cell_type": "markdown",
   "id": "d9f298f6",
   "metadata": {},
   "source": [
    "## Routes we found with strange turns, angles:\n",
    "### TLV - ARN, TLV - ATH , TLV - AYT, TLV - BER, TLV _ BUD, TLV - CLJ, TLV - DEB, TLV - DLM, TLV - DME, TLV - FMM , TlV - HEl, TLV - IAS, TLV - IST, TLV - KIV, TLV - KRK, TLV - LCA, TLV - MAD, TLV - OPO, TLV - OTP, TLV - PMI, TLV - RHO, TLV - RIX,TLV - TZX, TLV - VAR, TLV - VNO, TLV - WAW"
   ]
  },
  {
   "cell_type": "code",
   "execution_count": null,
   "id": "aa9fd05e",
   "metadata": {},
   "outputs": [],
   "source": [
    "### Substract those flights.\n",
    "selected_europe_angles = ['TLV - ARN', 'TLV - ATH' , 'TLV - BER', 'TLV _ BUD', 'TLV - CLJ',\n",
    "                          'TLV - DEB', 'TLV - DME', 'TLV - FMM' , 'TlV - HEl','TLV - IAS'\n",
    "                          , 'TLV - KIV', 'TLV - KRK', 'TLV - LCA', 'TLV - MAD', 'TLV - OPO',\n",
    "                          'TLV - OTP', 'TLV - PMI', 'TLV - RHO', 'TLV - RIX','TLV - TZX', 'TLV - VAR', 'TLV - VNO', 'TLV - WAW']"
   ]
  },
  {
   "cell_type": "code",
   "execution_count": null,
   "id": "12e2d21e",
   "metadata": {},
   "outputs": [],
   "source": [
    "route_filter_group = europe_df_group['Route'].isin(selected_europe_angles)"
   ]
  },
  {
   "cell_type": "code",
   "execution_count": null,
   "id": "77f9d81d",
   "metadata": {},
   "outputs": [],
   "source": [
    "europe_df_angel = europe_df_group[route_filter_group]"
   ]
  },
  {
   "cell_type": "code",
   "execution_count": null,
   "id": "3dd20afe",
   "metadata": {},
   "outputs": [],
   "source": [
    "europe_df_angel"
   ]
  },
  {
   "cell_type": "code",
   "execution_count": null,
   "id": "c0e6a5d3",
   "metadata": {},
   "outputs": [],
   "source": [
    "import pandas as pd\n",
    "import folium\n",
    "from IPython.display import display\n",
    "\n",
    "\n",
    "# Create a Folium map centered at an initial location\n",
    "map_center = [51.5074, -0.1278]  # For example, London's coordinates\n",
    "m = folium.Map(location=map_center, zoom_start=5)\n",
    "\n",
    "# Define a list of colors\n",
    "colors = ['blue', 'green', 'red', 'purple', 'orange', 'pink', 'gray', 'brown', 'cyan', 'magenta',\n",
    "          'lightblue', 'lightgreen', 'lightred', 'lightpurple', 'lightorange', 'lightpink',\n",
    "          'lightgray', 'lightbrown', 'lightcyan', 'lightmagenta', 'darkblue', 'darkgreen',\n",
    "          'darkred', 'darkpurple', 'darkorange', 'darkpink', 'darkgray', 'darkbrown', 'darkcyan', 'darkmagenta']\n",
    "\n",
    "# Iterate through each row and add markers with different colors for each sequence\n",
    "for index, row in europe_df_angel.iterrows():\n",
    "    sequence = row['Sequence']\n",
    "    color = colors[index % len(colors)]  # Get a color from the list\n",
    "    \n",
    "    for point in sequence:\n",
    "        latitude, longitude = point\n",
    "        folium.CircleMarker([latitude, longitude], radius=1, color=color, fill=True, fill_color=color).add_to(m)\n",
    "\n",
    "# Display the Folium map directly in the notebook or script\n",
    "display(m)\n"
   ]
  },
  {
   "cell_type": "markdown",
   "id": "1789fc56",
   "metadata": {},
   "source": [
    "## Conclusions on the subsequences of Europe"
   ]
  },
  {
   "cell_type": "markdown",
   "id": "0eb6a24f",
   "metadata": {},
   "source": [
    "#### We can see that flight the flights towards north Europe, like Stockholm, Helsiniki, Riga, Moscow, etc.. taking sharp turn north above the border of Slovakia-Hungary, that can cause from several events such as: Airspace Structure, Air Traffic Flow Management, Navigational Waypoints and more.."
   ]
  },
  {
   "cell_type": "markdown",
   "id": "65fd5845",
   "metadata": {},
   "source": [
    "#### The flight to Debercen made rounds before landing can cause by multiple reasons: get rid of fuel, the lane was busy."
   ]
  },
  {
   "cell_type": "markdown",
   "id": "8c764a70",
   "metadata": {},
   "source": [
    "#### The flights to Madrid and Porto split arount Sardinia island although they are both on the same Longitude, and the flight to Porto heading a little bit north."
   ]
  },
  {
   "cell_type": "markdown",
   "id": "90e66bf7",
   "metadata": {},
   "source": [
    "# Subsequence of Asia"
   ]
  },
  {
   "cell_type": "code",
   "execution_count": null,
   "id": "361a3945",
   "metadata": {},
   "outputs": [],
   "source": [
    "selected_asia_routes = [ 'TLV - ADD', 'TLV - BKK', 'TLV - DEL', 'TLV - GYD', 'TLV - HKG', 'TLV - HKT',\n",
    "                        'TLV - PEK','TLV - PVG',  'TLV - TAS', 'TLV - TZX','TLV - AMM','TLV - BAH','TLV - AUH',\n",
    "                        'TLV - ICN',  'TLV - SKD', 'TLV - NRT']"
   ]
  },
  {
   "cell_type": "code",
   "execution_count": null,
   "id": "8892c737",
   "metadata": {},
   "outputs": [],
   "source": [
    "route_filter_all = flight_data['Route'].isin(selected_asia_routes)"
   ]
  },
  {
   "cell_type": "code",
   "execution_count": null,
   "id": "0c805183",
   "metadata": {},
   "outputs": [],
   "source": [
    "route_filter_group = grouped_df['Route'].isin(selected_asia_routes)"
   ]
  },
  {
   "cell_type": "code",
   "execution_count": null,
   "id": "a6e5bd67",
   "metadata": {},
   "outputs": [],
   "source": [
    "asia_df = flight_data[route_filter_all]\n",
    "asia_df_group = grouped_df[route_filter_group]"
   ]
  },
  {
   "cell_type": "code",
   "execution_count": null,
   "id": "5bd91022",
   "metadata": {},
   "outputs": [],
   "source": [
    "asia_df"
   ]
  },
  {
   "cell_type": "code",
   "execution_count": null,
   "id": "d55cd545",
   "metadata": {},
   "outputs": [],
   "source": [
    "asia_df_group"
   ]
  },
  {
   "cell_type": "code",
   "execution_count": null,
   "id": "357e278c",
   "metadata": {},
   "outputs": [],
   "source": [
    "import pandas as pd\n",
    "import folium\n",
    "from IPython.display import display\n",
    "\n",
    "\n",
    "# Create a Folium map centered at an initial location\n",
    "map_center = [40.5074, 30.1278]  # For example, London's coordinates\n",
    "m = folium.Map(location=map_center, zoom_start=5)\n",
    "\n",
    "\n",
    "# Iterate through each row and add markers with different colors for each sequence\n",
    "for index, row in asia_df_group.iterrows():\n",
    "    sequence = row['Sequence']\n",
    "    \n",
    "    for point in sequence:\n",
    "        latitude, longitude = point\n",
    "        folium.CircleMarker([latitude, longitude], radius=1, fill=True).add_to(m)\n",
    "\n",
    "# Display the Folium map directly in the notebook or script\n",
    "display(m)\n"
   ]
  },
  {
   "cell_type": "code",
   "execution_count": null,
   "id": "0948dd26",
   "metadata": {},
   "outputs": [],
   "source": [
    "# Calculate the delta (change) in distance between consecutive rows for each route\n",
    "deltas = []\n",
    "\n",
    "# Group the DataFrame by 'Route'\n",
    "grouped = asia_df.groupby('Route')\n",
    "\n",
    "for route, group in grouped:\n",
    "    deltas.append(0)  # Set the first value for each route to '0'\n",
    "    for i in range(len(group) - 1):\n",
    "        lat1 = group.iloc[i, group.columns.get_loc('Latitude')]\n",
    "        lon1 = group.iloc[i, group.columns.get_loc('Longitude')]\n",
    "        lat2 = group.iloc[i + 1, group.columns.get_loc('Latitude')]\n",
    "        lon2 = group.iloc[i + 1, group.columns.get_loc('Longitude')]\n",
    "        distance_delta = haversine(lat1, lon1, lat2, lon2)\n",
    "        rounded_delta = round(distance_delta, 2)\n",
    "        deltas.append(rounded_delta)\n",
    "\n",
    "asia_df['Delta'] = deltas"
   ]
  },
  {
   "cell_type": "code",
   "execution_count": null,
   "id": "cae9f752",
   "metadata": {},
   "outputs": [],
   "source": [
    "# Calculate the delta (change) in angle between consecutive rows for each route\n",
    "angles = []\n",
    "\n",
    "# Group the DataFrame by 'Route'\n",
    "grouped = asia_df.groupby('Route')\n",
    "\n",
    "for route, group in grouped:\n",
    "    angles.append(0)  # Set the first value for each route to '0'\n",
    "    for i in range(len(group) - 1):\n",
    "        lat1 = group.iloc[i, group.columns.get_loc('Latitude')]\n",
    "        lon1 = group.iloc[i, group.columns.get_loc('Longitude')]\n",
    "        lat2 = group.iloc[i + 1, group.columns.get_loc('Latitude')]\n",
    "        lon2 = group.iloc[i + 1, group.columns.get_loc('Longitude')]\n",
    "        angle_delta = calculate_angle(lat1, lon1, lat2, lon2)\n",
    "        rounded_angle = round(angle_delta,2)\n",
    "        angles.append(rounded_angle)\n",
    "\n",
    "asia_df['Angle'] = angles"
   ]
  },
  {
   "cell_type": "code",
   "execution_count": null,
   "id": "aa76d026",
   "metadata": {},
   "outputs": [],
   "source": [
    "# Create an empty list to store rows with angle changes greater than 25 degrees\n",
    "delta_changes = []\n",
    "\n",
    "# Group the DataFrame by 'Route'\n",
    "grouped = asia_df.groupby('Route')\n",
    "\n",
    "for route, group in grouped:\n",
    "    delta_changes.append(0)  # Set the first value for each route to '0'\n",
    "    for i in range(1, len(group)):\n",
    "        current_delta = group.iloc[i, group.columns.get_loc('Delta')]\n",
    "        previous_delta = group.iloc[i - 1, group.columns.get_loc('Delta')]\n",
    "        delta_change = abs(current_delta - previous_delta)\n",
    "        delta_changes.append(delta_change)\n",
    "\n",
    "asia_df['DeltaChange'] = delta_changes"
   ]
  },
  {
   "cell_type": "code",
   "execution_count": null,
   "id": "1f300ae8",
   "metadata": {},
   "outputs": [],
   "source": [
    "# Create an empty list to store rows with angle changes greater than 25 degrees\n",
    "angle_changes = []\n",
    "\n",
    "# Group the DataFrame by 'Route'\n",
    "grouped = asia_df.groupby('Route')\n",
    "\n",
    "for route, group in grouped:\n",
    "    angle_changes.append(0)  # Set the first value for each route to '0'\n",
    "    for i in range(1, len(group)):\n",
    "        current_angle = group.iloc[i, group.columns.get_loc('Angle')]\n",
    "        previous_angle = group.iloc[i - 1, group.columns.get_loc('Angle')]\n",
    "        angle_change = abs(current_angle - previous_angle)\n",
    "        angle_changes.append(angle_change)\n",
    "\n",
    "asia_df['AngleChange'] = angle_changes"
   ]
  },
  {
   "cell_type": "code",
   "execution_count": null,
   "id": "021a3250",
   "metadata": {},
   "outputs": [],
   "source": [
    "for route, group in asia_df.groupby('Route'):\n",
    "    plt.figure()  # Create a new figure for each route's histogram\n",
    "    plt.hist(group['DeltaChange'], bins=60, edgecolor='black', alpha=0.7)\n",
    "    plt.title(f'Histogram for Route {route}')\n",
    "    plt.xlabel('Delta Change')\n",
    "    plt.ylabel('Frequency')\n",
    "    plt.grid(True)\n",
    "    plt.show()"
   ]
  },
  {
   "cell_type": "code",
   "execution_count": null,
   "id": "9a7b2c2d",
   "metadata": {},
   "outputs": [],
   "source": [
    "# Create histograms for each route\n",
    "for route, group in asia_df.groupby('Route'):\n",
    "    plt.figure()  # Create a new figure for each route's histogram\n",
    "    plt.hist(group['AngleChange'], bins=60, edgecolor='black', alpha=0.7)\n",
    "    plt.title(f'Histogram for Route {route}')\n",
    "    plt.xlabel('Angle Change')\n",
    "    plt.ylabel('Frequency')\n",
    "    plt.grid(True)\n",
    "    plt.show()"
   ]
  },
  {
   "cell_type": "code",
   "execution_count": null,
   "id": "25089a71",
   "metadata": {},
   "outputs": [],
   "source": [
    "# Extract latitude and longitude coordinates from the 'sequence' column\n",
    "latitude_longitude = asia_df_group['Sequence'].apply(pd.Series)\n",
    "\n",
    "\n",
    "# Get the route names from the original DataFrame\n",
    "route_names = asia_df_group['Route']\n",
    "\n",
    "# Iterate through each row and plot each sequence separately with route names as titles\n",
    "for index, row in latitude_longitude.iterrows():\n",
    "    latitudes = row.str[0]\n",
    "    longitudes = row.str[1]\n",
    "    \n",
    "    route_name = route_names[index]\n",
    "    \n",
    "    plt.figure(figsize=(10, 6))  # Adjust the figure size as needed\n",
    "    plt.scatter(longitudes, latitudes, marker='o', alpha=0.5)\n",
    "    plt.title(f'{route_name}')\n",
    "    plt.xlabel('Longitude')\n",
    "    plt.ylabel('Latitude')\n",
    "    plt.grid(True)\n",
    "    plt.show()"
   ]
  },
  {
   "cell_type": "markdown",
   "id": "92654346",
   "metadata": {},
   "source": [
    "## Conclusions on the subsequences of Asia\n"
   ]
  },
  {
   "cell_type": "markdown",
   "id": "bb4245e8",
   "metadata": {},
   "source": [
    "#### There is an airspace over which Israel cannot fly due to emission considerations"
   ]
  },
  {
   "cell_type": "markdown",
   "id": "cfc54515",
   "metadata": {},
   "source": [
    "#### We can see that the flights from TLV to asia detinations taking two routes, southern destinations like India or Thailand the flight route will go southern from the arab countries of Iran, Iraq and Afghanistan and northern destinations like Armenia, South Korea, China and Japan will go northern from those arab countries. That cause happens because of political conflicts between Israel and those countries that means Israeli airlanes can not fly above them."
   ]
  },
  {
   "cell_type": "markdown",
   "id": "76759f59",
   "metadata": {},
   "source": [
    "# Subsequence of America"
   ]
  },
  {
   "cell_type": "code",
   "execution_count": null,
   "id": "8a433e02",
   "metadata": {},
   "outputs": [],
   "source": [
    "selected_america_routes = ['TLV - ORD',   'TLV - IAD',  'TLV - BOS', 'TLV - ATL', 'TLV - YUL'\n",
    "                       , 'TLV - LAX',  'TLV - YYZ', 'TLV - YVR',  'TLV - TRN'  ,'TLV - MIA'  , 'TLV - JFK']"
   ]
  },
  {
   "cell_type": "code",
   "execution_count": null,
   "id": "c553a93a",
   "metadata": {},
   "outputs": [],
   "source": [
    "route_filter_all = flight_data['Route'].isin(selected_america_routes)"
   ]
  },
  {
   "cell_type": "code",
   "execution_count": null,
   "id": "4b425049",
   "metadata": {},
   "outputs": [],
   "source": [
    "route_filter_group = grouped_df['Route'].isin(selected_america_routes)"
   ]
  },
  {
   "cell_type": "code",
   "execution_count": null,
   "id": "d68df57a",
   "metadata": {},
   "outputs": [],
   "source": [
    "america_df = flight_data[route_filter_all]\n",
    "america_df_group = grouped_df[route_filter_group]"
   ]
  },
  {
   "cell_type": "code",
   "execution_count": null,
   "id": "7d0be181",
   "metadata": {},
   "outputs": [],
   "source": [
    "america_df"
   ]
  },
  {
   "cell_type": "code",
   "execution_count": null,
   "id": "b7a57833",
   "metadata": {},
   "outputs": [],
   "source": [
    "america_df_group"
   ]
  },
  {
   "cell_type": "code",
   "execution_count": null,
   "id": "c4dc003d",
   "metadata": {},
   "outputs": [],
   "source": [
    "import pandas as pd\n",
    "import folium\n",
    "from IPython.display import display\n",
    "\n",
    "\n",
    "# Create a Folium map centered at an initial location\n",
    "map_center = [51.5074, -0.1278]  # For example, London's coordinates\n",
    "m = folium.Map(location=map_center, zoom_start=5)\n",
    "\n",
    "\n",
    "# Iterate through each row and add markers with different colors for each sequence\n",
    "for index, row in america_df_group.iterrows():\n",
    "    sequence = row['Sequence']\n",
    "    \n",
    "    for point in sequence:\n",
    "        latitude, longitude = point\n",
    "        folium.CircleMarker([latitude, longitude], radius=1, fill=True).add_to(m)\n",
    "\n",
    "# Display the Folium map directly in the notebook or script\n",
    "display(m)\n"
   ]
  },
  {
   "cell_type": "code",
   "execution_count": null,
   "id": "5f6ac98a",
   "metadata": {},
   "outputs": [],
   "source": [
    "# Calculate the delta (change) in distance between consecutive rows for each route\n",
    "deltas = []\n",
    "\n",
    "# Group the DataFrame by 'Route'\n",
    "grouped = america_df.groupby('Route')\n",
    "\n",
    "for route, group in grouped:\n",
    "    deltas.append(0)  # Set the first value for each route to '0'\n",
    "    for i in range(len(group) - 1):\n",
    "        lat1 = group.iloc[i, group.columns.get_loc('Latitude')]\n",
    "        lon1 = group.iloc[i, group.columns.get_loc('Longitude')]\n",
    "        lat2 = group.iloc[i + 1, group.columns.get_loc('Latitude')]\n",
    "        lon2 = group.iloc[i + 1, group.columns.get_loc('Longitude')]\n",
    "        distance_delta = haversine(lat1, lon1, lat2, lon2)\n",
    "        rounded_delta = round(distance_delta, 2)\n",
    "        deltas.append(rounded_delta)\n",
    "\n",
    "america_df['Delta'] = deltas"
   ]
  },
  {
   "cell_type": "code",
   "execution_count": null,
   "id": "d9c23ffd",
   "metadata": {},
   "outputs": [],
   "source": [
    "# Calculate the delta (change) in angle between consecutive rows for each route\n",
    "angles = []\n",
    "\n",
    "# Group the DataFrame by 'Route'\n",
    "grouped = america_df.groupby('Route')\n",
    "\n",
    "for route, group in grouped:\n",
    "    angles.append(0)  # Set the first value for each route to '0'\n",
    "    for i in range(len(group) - 1):\n",
    "        lat1 = group.iloc[i, group.columns.get_loc('Latitude')]\n",
    "        lon1 = group.iloc[i, group.columns.get_loc('Longitude')]\n",
    "        lat2 = group.iloc[i + 1, group.columns.get_loc('Latitude')]\n",
    "        lon2 = group.iloc[i + 1, group.columns.get_loc('Longitude')]\n",
    "        angle_delta = calculate_angle(lat1, lon1, lat2, lon2)\n",
    "        rounded_angle = round(angle_delta,2)\n",
    "        angles.append(rounded_angle)\n",
    "\n",
    "america_df['Angle'] = angles"
   ]
  },
  {
   "cell_type": "code",
   "execution_count": null,
   "id": "514fe82b",
   "metadata": {},
   "outputs": [],
   "source": [
    "# Create an empty list to store rows with angle changes greater than 25 degrees\n",
    "delta_changes = []\n",
    "\n",
    "# Group the DataFrame by 'Route'\n",
    "grouped = america_df.groupby('Route')\n",
    "\n",
    "for route, group in grouped:\n",
    "    delta_changes.append(0)  # Set the first value for each route to '0'\n",
    "    for i in range(1, len(group)):\n",
    "        current_delta = group.iloc[i, group.columns.get_loc('Delta')]\n",
    "        previous_delta = group.iloc[i - 1, group.columns.get_loc('Delta')]\n",
    "        delta_change = abs(current_delta - previous_delta)\n",
    "        delta_changes.append(delta_change)\n",
    "\n",
    "america_df['DeltaChange'] = delta_changes"
   ]
  },
  {
   "cell_type": "code",
   "execution_count": null,
   "id": "26bc8799",
   "metadata": {},
   "outputs": [],
   "source": [
    "# Create an empty list to store rows with angle changes greater than 25 degrees\n",
    "angle_changes = []\n",
    "\n",
    "# Group the DataFrame by 'Route'\n",
    "grouped = america_df.groupby('Route')\n",
    "\n",
    "for route, group in grouped:\n",
    "    angle_changes.append(0)  # Set the first value for each route to '0'\n",
    "    for i in range(1, len(group)):\n",
    "        current_angle = group.iloc[i, group.columns.get_loc('Angle')]\n",
    "        previous_angle = group.iloc[i - 1, group.columns.get_loc('Angle')]\n",
    "        angle_change = abs(current_angle - previous_angle)\n",
    "        angle_changes.append(angle_change)\n",
    "\n",
    "america_df['AngleChange'] = angle_changes"
   ]
  },
  {
   "cell_type": "code",
   "execution_count": null,
   "id": "783c8955",
   "metadata": {},
   "outputs": [],
   "source": [
    "for route, group in america_df.groupby('Route'):\n",
    "    plt.figure()  # Create a new figure for each route's histogram\n",
    "    plt.hist(group['DeltaChange'], bins=60, edgecolor='black', alpha=0.7)\n",
    "    plt.title(f'Histogram for Route {route}')\n",
    "    plt.xlabel('Delta Change')\n",
    "    plt.ylabel('Frequency')\n",
    "    plt.grid(True)\n",
    "    plt.show()"
   ]
  },
  {
   "cell_type": "code",
   "execution_count": null,
   "id": "6ff5cd50",
   "metadata": {},
   "outputs": [],
   "source": [
    "# Create histograms for each route\n",
    "for route, group in america_df.groupby('Route'):\n",
    "    plt.figure()  # Create a new figure for each route's histogram\n",
    "    plt.hist(group['AngleChange'], bins=60, edgecolor='black', alpha=0.7)\n",
    "    plt.title(f'Histogram for Route {route}')\n",
    "    plt.xlabel('Angle Change')\n",
    "    plt.ylabel('Frequency')\n",
    "    plt.grid(True)\n",
    "    plt.show()"
   ]
  },
  {
   "cell_type": "code",
   "execution_count": null,
   "id": "69b08ed6",
   "metadata": {},
   "outputs": [],
   "source": [
    "# Extract latitude and longitude coordinates from the 'sequence' column\n",
    "latitude_longitude = america_df_group['Sequence'].apply(pd.Series)\n",
    "\n",
    "\n",
    "# Get the route names from the original DataFrame\n",
    "route_names = america_df_group['Route']\n",
    "\n",
    "# Iterate through each row and plot each sequence separately with route names as titles\n",
    "for index, row in latitude_longitude.iterrows():\n",
    "    latitudes = row.str[0]\n",
    "    longitudes = row.str[1]\n",
    "    \n",
    "    route_name = route_names[index]\n",
    "    \n",
    "    plt.figure(figsize=(10, 6))  # Adjust the figure size as needed\n",
    "    plt.scatter(longitudes, latitudes, marker='o', alpha=0.5)\n",
    "    plt.title(f'{route_name}')\n",
    "    plt.xlabel('Longitude')\n",
    "    plt.ylabel('Latitude')\n",
    "    plt.grid(True)\n",
    "    plt.show()"
   ]
  },
  {
   "cell_type": "markdown",
   "id": "91bcfb91",
   "metadata": {},
   "source": [
    "## Conclusions on the subsequences of America"
   ]
  },
  {
   "cell_type": "markdown",
   "id": "13e34c3f",
   "metadata": {},
   "source": [
    "#### There isnt a special pattern about the flight routes to America destinations"
   ]
  }
 ],
 "metadata": {
  "kernelspec": {
   "display_name": "Python 3 (ipykernel)",
   "language": "python",
   "name": "python3"
  },
  "language_info": {
   "codemirror_mode": {
    "name": "ipython",
    "version": 3
   },
   "file_extension": ".py",
   "mimetype": "text/x-python",
   "name": "python",
   "nbconvert_exporter": "python",
   "pygments_lexer": "ipython3",
   "version": "3.9.12"
  }
 },
 "nbformat": 4,
 "nbformat_minor": 5
}
