{
 "cells": [
  {
   "cell_type": "code",
   "execution_count": null,
   "id": "2603fac9",
   "metadata": {},
   "outputs": [],
   "source": [
    "import numpy as np\n",
    "import pandas as pd\n",
    "from pykalman import KalmanFilter\n",
    "import matplotlib.pyplot as plt\n",
    "import folium"
   ]
  },
  {
   "cell_type": "code",
   "execution_count": null,
   "id": "b920ee56",
   "metadata": {},
   "outputs": [],
   "source": [
    "df2 = pd.read_csv('flight_data.csv')"
   ]
  },
  {
   "cell_type": "code",
   "execution_count": null,
   "id": "e87dad5d",
   "metadata": {},
   "outputs": [],
   "source": [
    "grouped = df2.groupby('Route')\n",
    "# Create histograms for each route\n",
    "for route, group in grouped:\n",
    "    plt.figure() \n",
    "    plt.scatter(x=group['Latitude'],y=group['Longitude'])\n",
    "    plt.title(f'Scatterplot for Route {route}')\n",
    "    plt.grid(True)\n",
    "    plt.show()"
   ]
  },
  {
   "cell_type": "markdown",
   "id": "df505b48",
   "metadata": {},
   "source": [
    "#### Routes that need to smooth :\n",
    "TLV-ADD, TLV-AUH, TLV-BAH, TLV-BKK, TLV-BOS, TLV-DEL, TLV-EVN, TLV-GYD, TLV-HKG, TLV-HKT, TLV-IAD, TLV-ICN, \n",
    "TLV-JFK, TLV-JNB, TLV-KEF, TLV-KIV, TLV-LAX, TLV-MIA, TLV-NRT, TLV-ORD, TLV-PEK, TLV-PVG, TLV-SEZ, TLV-SFO,\n",
    "TLV-SKD, TLV-SSH, TLV-TAS, TLV-TBS, TLV-TZX, TLV-YYZ, TLV-ZNZ"
   ]
  },
  {
   "cell_type": "code",
   "execution_count": null,
   "id": "8e90cb9d",
   "metadata": {},
   "outputs": [],
   "source": [
    "csv_files=[\n",
    "    './CSV/TLV-ADD_ETH415.csv',\n",
    "    './CSV/TLV-AUH_EY594.csv',\n",
    "    './CSV/TLV-BAH_GF973.csv',\n",
    "    './CSV/TLV-BKK_ELY83.csv',\n",
    "    './CSV/TLV-BOS_LY15.csv',\n",
    "    './CSV/TLV-DEL_AIC140.csv',\n",
    "    './CSV/TLV-EVN_ISR823.csv',\n",
    "    './CSV/TLV-GYD_AHY22.csv',\n",
    "    './CSV/TLV-HKG_CX676.csv',\n",
    "    './CSV/TLV-HKT_ELY87.csv',\n",
    "    './CSV/TLV-IAD_UA73.csv',\n",
    "    './CSV/TLV-ICN_KAL958.csv',\n",
    "    './CSV/TLV-JFK_LY11.csv',\n",
    "    './CSV/TLV-JNB_ELY51.csv',\n",
    "    './CSV/TLV-KEF_ICE551.csv',\n",
    "    './CSV/TLV-KIV_FIA448.csv',\n",
    "    './CSV/TLV-LAX_LY5.csv',\n",
    "    './CSV/TLV-MIA_LY17.csv',\n",
    "    './CSV/TLV-NRT_ELY91.csv',\n",
    "    './CSV/TLV-ORD_UA141.csv',\n",
    "    './CSV/TLV-PEK_CHH7958.csv',\n",
    "    './CSV/TLV-PVG_CHH778.csv',\n",
    "    './CSV/TLV-SEZ_SEY21.csv',\n",
    "    './CSV/TLV-SFO_UA955.csv',\n",
    "    './CSV/TLV-SKD_QNT5542.csv',\n",
    "    './CSV/TLV-SSH_IZ1045.csv',\n",
    "    './CSV/TLV-TAS_UZB304.csv',\n",
    "    './CSV/TLV-TBS_IZ417.csv',\n",
    "    './CSV/TLV-TZX_PC895.csv',\n",
    "    './CSV/TLV-YYZ_AC81.csv',\n",
    "    './CSV/TLV-ZNZ_ISR911.csv'\n",
    "]"
   ]
  },
  {
   "cell_type": "code",
   "execution_count": null,
   "id": "d37fb457",
   "metadata": {},
   "outputs": [],
   "source": [
    "class KalmanFilter1D:\n",
    "    def __init__(self, initial_state, initial_covariance, process_variance, measurement_variance):\n",
    "        self.state = initial_state\n",
    "        self.covariance = initial_covariance\n",
    "        self.process_variance = process_variance\n",
    "        self.measurement_variance = measurement_variance\n",
    "\n",
    "    def predict(self):\n",
    "        # Prediction step\n",
    "        self.state = self.state  # If there is no prediction model, simply update state without prediction\n",
    "        self.covariance += self.process_variance\n",
    "\n",
    "    def update(self, measurement):\n",
    "        # Update step\n",
    "        kalman_gain = self.covariance / (self.covariance + self.measurement_variance)\n",
    "        self.state += kalman_gain * (measurement - self.state)\n",
    "        self.covariance *= (1 - kalman_gain)\n",
    "\n",
    "    def smooth(self, measurements):\n",
    "        smoothed_data = []\n",
    "        for measurement in measurements:\n",
    "            self.predict()\n",
    "            self.update(measurement)\n",
    "            smoothed_data.append(self.state)\n",
    "        return smoothed_data"
   ]
  },
  {
   "cell_type": "code",
   "execution_count": null,
   "id": "5098874e",
   "metadata": {},
   "outputs": [],
   "source": [
    "# Loop over the filenames, read the CSV files, apply Kalman filter, and save the updated files\n",
    "for filename in csv_files:\n",
    "    # Step 1: Read the CSV file and store it in a DataFrame\n",
    "    df = pd.read_csv(filename)\n",
    "\n",
    "    # Step 2: Extract latitude and longitude data\n",
    "    latitudes = df['Latitude']\n",
    "    longitudes = df['Longitude']\n",
    "\n",
    "    # Step 3: Initialize Kalman filters for latitude and longitude\n",
    "    initial_state = latitudes[0]\n",
    "    initial_covariance = 1.0\n",
    "    process_variance = 0.01\n",
    "    measurement_variance = 10\n",
    "    kalman_filter_latitude = KalmanFilter1D(initial_state, initial_covariance, process_variance, measurement_variance)\n",
    "    kalman_filter_longitude = KalmanFilter1D(initial_state, initial_covariance, process_variance, measurement_variance)\n",
    "\n",
    "    # Step 4: Smooth latitude and longitude data using Kalman filter\n",
    "    smoothed_latitudes = kalman_filter_latitude.smooth(latitudes)\n",
    "    smoothed_longitudes = kalman_filter_longitude.smooth(longitudes)\n",
    "\n",
    "    # Step 5: Update the DataFrame with smoothed data\n",
    "    df['Latitude'] = smoothed_latitudes\n",
    "    df['Longitude'] = smoothed_longitudes\n",
    "\n",
    "    # Step 6: Save the updated DataFrame back to the CSV file\n",
    "    df.to_csv(filename, index=False)"
   ]
  },
  {
   "cell_type": "code",
   "execution_count": null,
   "id": "4b7fce8c",
   "metadata": {},
   "outputs": [],
   "source": [
    "smoothed_data = pd.read_csv('Smoothed_data.csv')"
   ]
  },
  {
   "cell_type": "code",
   "execution_count": null,
   "id": "dca67f2e",
   "metadata": {},
   "outputs": [],
   "source": [
    "smoothed_data.head()"
   ]
  },
  {
   "cell_type": "code",
   "execution_count": null,
   "id": "41c0d710",
   "metadata": {},
   "outputs": [],
   "source": [
    "grouped = smoothed_data.groupby('Route')\n",
    "# Create histograms for each route\n",
    "for route, group in grouped:\n",
    "    plt.figure() \n",
    "    plt.scatter(x=group['Latitude'],y=group['Longitude'])\n",
    "    plt.title(f'Scatterplot for Route {route}')\n",
    "    plt.grid(True)\n",
    "    plt.show()"
   ]
  },
  {
   "cell_type": "code",
   "execution_count": null,
   "id": "d4334db8",
   "metadata": {},
   "outputs": [],
   "source": []
  }
 ],
 "metadata": {
  "kernelspec": {
   "display_name": "Python 3 (ipykernel)",
   "language": "python",
   "name": "python3"
  },
  "language_info": {
   "codemirror_mode": {
    "name": "ipython",
    "version": 3
   },
   "file_extension": ".py",
   "mimetype": "text/x-python",
   "name": "python",
   "nbconvert_exporter": "python",
   "pygments_lexer": "ipython3",
   "version": "3.9.12"
  }
 },
 "nbformat": 4,
 "nbformat_minor": 5
}
