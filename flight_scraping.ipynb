{
 "cells": [
  {
   "cell_type": "code",
   "execution_count": 1,
   "id": "6b38b7e8",
   "metadata": {},
   "outputs": [],
   "source": [
    "import pandas as pd\n",
    "import time\n",
    "from selenium import webdriver\n",
    "from time import sleep\n",
    "import datetime\n",
    "from selenium.webdriver.common.by import By\n",
    "from datetime import date, timedelta\n",
    "import csv\n"
   ]
  },
  {
   "cell_type": "code",
   "execution_count": 2,
   "id": "4388ef68",
   "metadata": {},
   "outputs": [],
   "source": [
    "# Create driver object. Opens browser window.\n",
    "chromedriver_path = 'C:/Users/Tevet/chromedriver.exe'\n",
    "driver = webdriver.Chrome(chromedriver_path)"
   ]
  },
  {
   "cell_type": "code",
   "execution_count": 3,
   "id": "33c4b27d",
   "metadata": {},
   "outputs": [],
   "source": [
    "new_columns_data = {\n",
    "    'Route': 'TLV - BKK',\n",
    "    'Airline': 'El Al',\n",
    "    'FlightNum': 'ELY83',\n",
    "    'Aircraft': 'B788',\n",
    "    'Date': '17/07/2023'\n",
    "}\n",
    "\n",
    "new_column_names = {\n",
    "    0: 'Time',\n",
    "    1: 'Latitude',\n",
    "    2: 'Longitude',\n",
    "    3: 'Course',\n",
    "    4: 'Kts',\n",
    "    5: 'mph',\n",
    "    6: 'feet',\n",
    "    7: 'Rate',\n",
    "    8: 'Reporting Facility'\n",
    "}\n"
   ]
  },
  {
   "cell_type": "code",
   "execution_count": 4,
   "id": "58d3cb58",
   "metadata": {},
   "outputs": [],
   "source": [
    "url = f\"https://flightaware.com/live/flight/ELY83/history/20230717/1855Z/LLBG/VTBS/tracklog\"\n",
    "driver.get(url)\n",
    "driver.maximize_window()\n",
    "                \n",
    "table_element = driver.find_element(By.XPATH, '//*[@id=\"tracklogTable\"]')\n",
    "table_data = []\n",
    "rows = table_element.find_elements(By.TAG_NAME, \"tr\")\n",
    "for row in rows:\n",
    "    cells = row.find_elements(By.TAG_NAME, \"td\")\n",
    "    row_data = [cell.text for cell in cells]\n",
    "    table_data.append(row_data)\n",
    "        \n",
    "df = pd.DataFrame(table_data)\n",
    "df = df.assign(**new_columns_data)\n",
    "df.rename(columns=new_column_names, inplace=True)\n",
    "df = df[['Route', 'Airline', 'FlightNum', 'Aircraft', 'Date', 'Time', 'Latitude', 'Longitude', 'Course',\n",
    "         'Kts', 'mph', 'feet', 'Rate', 'Reporting Facility']]\n",
    "df.to_csv('TLV-BKK_ELY83.csv',index=False)\n",
    "        \n",
    "driver.quit()"
   ]
  },
  {
   "cell_type": "code",
   "execution_count": null,
   "id": "582d89f7",
   "metadata": {},
   "outputs": [],
   "source": []
  },
  {
   "cell_type": "code",
   "execution_count": null,
   "id": "160c5997",
   "metadata": {},
   "outputs": [],
   "source": []
  }
 ],
 "metadata": {
  "kernelspec": {
   "display_name": "Python 3 (ipykernel)",
   "language": "python",
   "name": "python3"
  },
  "language_info": {
   "codemirror_mode": {
    "name": "ipython",
    "version": 3
   },
   "file_extension": ".py",
   "mimetype": "text/x-python",
   "name": "python",
   "nbconvert_exporter": "python",
   "pygments_lexer": "ipython3",
   "version": "3.9.12"
  }
 },
 "nbformat": 4,
 "nbformat_minor": 5
}
